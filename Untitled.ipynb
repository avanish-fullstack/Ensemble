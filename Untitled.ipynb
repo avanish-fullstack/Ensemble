{
 "cells": [
  {
   "cell_type": "markdown",
   "metadata": {},
   "source": [
    "## LOAD LIBRARIES"
   ]
  },
  {
   "cell_type": "code",
   "execution_count": 1,
   "metadata": {},
   "outputs": [],
   "source": [
    "import  pandas as pd\n",
    "import numpy as np\n",
    "import seaborn as sns\n",
    "import matplotlib.pyplot as plt\n",
    "from sklearn.model_selection import KFold\n",
    "from sklearn.metrics import mean_squared_error\n",
    "import xgboost as xgb\n",
    "from sklearn.model_selection import train_test_split"
   ]
  },
  {
   "cell_type": "markdown",
   "metadata": {},
   "source": [
    "## LOAD DATA AND PREPROCESSING"
   ]
  },
  {
   "cell_type": "code",
   "execution_count": 2,
   "metadata": {},
   "outputs": [],
   "source": [
    "trip_df = pd.read_csv('trip.csv')"
   ]
  },
  {
   "cell_type": "code",
   "execution_count": 3,
   "metadata": {},
   "outputs": [
    {
     "data": {
      "text/html": [
       "<div>\n",
       "<style scoped>\n",
       "    .dataframe tbody tr th:only-of-type {\n",
       "        vertical-align: middle;\n",
       "    }\n",
       "\n",
       "    .dataframe tbody tr th {\n",
       "        vertical-align: top;\n",
       "    }\n",
       "\n",
       "    .dataframe thead th {\n",
       "        text-align: right;\n",
       "    }\n",
       "</style>\n",
       "<table border=\"1\" class=\"dataframe\">\n",
       "  <thead>\n",
       "    <tr style=\"text-align: right;\">\n",
       "      <th></th>\n",
       "      <th>id</th>\n",
       "      <th>vendor_id</th>\n",
       "      <th>pickup_datetime</th>\n",
       "      <th>dropoff_datetime</th>\n",
       "      <th>passenger_count</th>\n",
       "      <th>pickup_longitude</th>\n",
       "      <th>pickup_latitude</th>\n",
       "      <th>dropoff_longitude</th>\n",
       "      <th>dropoff_latitude</th>\n",
       "      <th>store_and_fwd_flag</th>\n",
       "      <th>trip_duration</th>\n",
       "    </tr>\n",
       "  </thead>\n",
       "  <tbody>\n",
       "    <tr>\n",
       "      <th>0</th>\n",
       "      <td>id1080784</td>\n",
       "      <td>2</td>\n",
       "      <td>2016-02-29 16:40:21</td>\n",
       "      <td>2016-02-29 16:47:01</td>\n",
       "      <td>1</td>\n",
       "      <td>-73.953918</td>\n",
       "      <td>40.778873</td>\n",
       "      <td>-73.963875</td>\n",
       "      <td>40.771164</td>\n",
       "      <td>N</td>\n",
       "      <td>400</td>\n",
       "    </tr>\n",
       "    <tr>\n",
       "      <th>1</th>\n",
       "      <td>id0889885</td>\n",
       "      <td>1</td>\n",
       "      <td>2016-03-11 23:35:37</td>\n",
       "      <td>2016-03-11 23:53:57</td>\n",
       "      <td>2</td>\n",
       "      <td>-73.988312</td>\n",
       "      <td>40.731743</td>\n",
       "      <td>-73.994751</td>\n",
       "      <td>40.694931</td>\n",
       "      <td>N</td>\n",
       "      <td>1100</td>\n",
       "    </tr>\n",
       "    <tr>\n",
       "      <th>2</th>\n",
       "      <td>id0857912</td>\n",
       "      <td>2</td>\n",
       "      <td>2016-02-21 17:59:33</td>\n",
       "      <td>2016-02-21 18:26:48</td>\n",
       "      <td>2</td>\n",
       "      <td>-73.997314</td>\n",
       "      <td>40.721458</td>\n",
       "      <td>-73.948029</td>\n",
       "      <td>40.774918</td>\n",
       "      <td>N</td>\n",
       "      <td>1635</td>\n",
       "    </tr>\n",
       "    <tr>\n",
       "      <th>3</th>\n",
       "      <td>id3744273</td>\n",
       "      <td>2</td>\n",
       "      <td>2016-01-05 09:44:31</td>\n",
       "      <td>2016-01-05 10:03:32</td>\n",
       "      <td>6</td>\n",
       "      <td>-73.961670</td>\n",
       "      <td>40.759720</td>\n",
       "      <td>-73.956779</td>\n",
       "      <td>40.780628</td>\n",
       "      <td>N</td>\n",
       "      <td>1141</td>\n",
       "    </tr>\n",
       "    <tr>\n",
       "      <th>4</th>\n",
       "      <td>id0232939</td>\n",
       "      <td>1</td>\n",
       "      <td>2016-02-17 06:42:23</td>\n",
       "      <td>2016-02-17 06:56:31</td>\n",
       "      <td>1</td>\n",
       "      <td>-74.017120</td>\n",
       "      <td>40.708469</td>\n",
       "      <td>-73.988182</td>\n",
       "      <td>40.740631</td>\n",
       "      <td>N</td>\n",
       "      <td>848</td>\n",
       "    </tr>\n",
       "  </tbody>\n",
       "</table>\n",
       "</div>"
      ],
      "text/plain": [
       "          id  vendor_id      pickup_datetime     dropoff_datetime  \\\n",
       "0  id1080784          2  2016-02-29 16:40:21  2016-02-29 16:47:01   \n",
       "1  id0889885          1  2016-03-11 23:35:37  2016-03-11 23:53:57   \n",
       "2  id0857912          2  2016-02-21 17:59:33  2016-02-21 18:26:48   \n",
       "3  id3744273          2  2016-01-05 09:44:31  2016-01-05 10:03:32   \n",
       "4  id0232939          1  2016-02-17 06:42:23  2016-02-17 06:56:31   \n",
       "\n",
       "   passenger_count  pickup_longitude  pickup_latitude  dropoff_longitude  \\\n",
       "0                1        -73.953918        40.778873         -73.963875   \n",
       "1                2        -73.988312        40.731743         -73.994751   \n",
       "2                2        -73.997314        40.721458         -73.948029   \n",
       "3                6        -73.961670        40.759720         -73.956779   \n",
       "4                1        -74.017120        40.708469         -73.988182   \n",
       "\n",
       "   dropoff_latitude store_and_fwd_flag  trip_duration  \n",
       "0         40.771164                  N            400  \n",
       "1         40.694931                  N           1100  \n",
       "2         40.774918                  N           1635  \n",
       "3         40.780628                  N           1141  \n",
       "4         40.740631                  N            848  "
      ]
     },
     "execution_count": 3,
     "metadata": {},
     "output_type": "execute_result"
    }
   ],
   "source": [
    "trip_df.head()"
   ]
  },
  {
   "cell_type": "code",
   "execution_count": 4,
   "metadata": {},
   "outputs": [
    {
     "name": "stdout",
     "output_type": "stream",
     "text": [
      "<class 'pandas.core.frame.DataFrame'>\n",
      "RangeIndex: 729322 entries, 0 to 729321\n",
      "Data columns (total 11 columns):\n",
      "id                    729322 non-null object\n",
      "vendor_id             729322 non-null int64\n",
      "pickup_datetime       729322 non-null object\n",
      "dropoff_datetime      729322 non-null object\n",
      "passenger_count       729322 non-null int64\n",
      "pickup_longitude      729322 non-null float64\n",
      "pickup_latitude       729322 non-null float64\n",
      "dropoff_longitude     729322 non-null float64\n",
      "dropoff_latitude      729322 non-null float64\n",
      "store_and_fwd_flag    729322 non-null object\n",
      "trip_duration         729322 non-null int64\n",
      "dtypes: float64(4), int64(3), object(4)\n",
      "memory usage: 61.2+ MB\n"
     ]
    }
   ],
   "source": [
    "trip_df.info()"
   ]
  },
  {
   "cell_type": "code",
   "execution_count": 5,
   "metadata": {},
   "outputs": [],
   "source": [
    "# Extract features from pickup and dropoff datetime columns. Also need to convert object types to date time.\n",
    "trip_df['pickup_datetime'] = pd.to_datetime(trip_df['pickup_datetime'])\n",
    "trip_df['dropoff_datetime'] = pd.to_datetime(trip_df['dropoff_datetime'])"
   ]
  },
  {
   "cell_type": "code",
   "execution_count": 6,
   "metadata": {},
   "outputs": [],
   "source": [
    "# Encode the categorical variable Store and Fwd Flag\n",
    "encoded_flags = pd.get_dummies(trip_df['store_and_fwd_flag'] , drop_first = True)"
   ]
  },
  {
   "cell_type": "code",
   "execution_count": 7,
   "metadata": {},
   "outputs": [],
   "source": [
    "trip_df['store_fwd_flag'] = encoded_flags"
   ]
  },
  {
   "cell_type": "code",
   "execution_count": 8,
   "metadata": {},
   "outputs": [],
   "source": [
    "# Drop the store and fwd flag and this has already been encoded in other column\n",
    "trip_df.drop(['store_and_fwd_flag'] , axis = 1 , inplace = True)"
   ]
  },
  {
   "cell_type": "code",
   "execution_count": 9,
   "metadata": {},
   "outputs": [],
   "source": [
    "# Drop the id column.  This is unique to eac  trip and not expected to contribute in prediction\n",
    "trip_df.drop(['id'] ,  axis = 1 , inplace = True)"
   ]
  },
  {
   "cell_type": "code",
   "execution_count": 10,
   "metadata": {},
   "outputs": [],
   "source": [
    "#  Extract feature from the date time coulmns , like month ,  day of week , hour etc.\n",
    "month = trip_df['pickup_datetime'].dt.month\n",
    "hour = trip_df['pickup_datetime'].dt.hour\n",
    "dayofweek = trip_df['pickup_datetime'].dt.dayofweek"
   ]
  },
  {
   "cell_type": "code",
   "execution_count": 11,
   "metadata": {},
   "outputs": [],
   "source": [
    "trip_df['pickup_month'] = month\n",
    "trip_df['pickup_hour'] = hour\n",
    "trip_df['pickup_dayofweek'] =  dayofweek"
   ]
  },
  {
   "cell_type": "code",
   "execution_count": 12,
   "metadata": {},
   "outputs": [],
   "source": [
    "month = trip_df['dropoff_datetime'].dt.month\n",
    "hour = trip_df['dropoff_datetime'].dt.hour\n",
    "dayofweek = trip_df['dropoff_datetime'].dt.dayofweek"
   ]
  },
  {
   "cell_type": "code",
   "execution_count": 13,
   "metadata": {},
   "outputs": [],
   "source": [
    "trip_df['dropoff_month'] = month\n",
    "trip_df['dropoff_hour'] = hour\n",
    "trip_df['dropoff_dayofweek'] =  dayofweek"
   ]
  },
  {
   "cell_type": "code",
   "execution_count": 14,
   "metadata": {},
   "outputs": [],
   "source": [
    "# drop the pickup datetime and drop off datetime as we have already extracted relevant features from it\n",
    "trip_df.drop(['pickup_datetime' , 'dropoff_datetime'] , axis = 1 , inplace = True)"
   ]
  },
  {
   "cell_type": "code",
   "execution_count": 15,
   "metadata": {},
   "outputs": [],
   "source": [
    "# convert the vendor id  feature into a nominal vendor id column. currently its 1 and 2 , there should not be \n",
    "# any ordinality in these values\n",
    "vendor_dummies = pd.get_dummies(trip_df['vendor_id'] , drop_first = True)\n",
    "trip_df['vendor_enc'] = vendor_dummies"
   ]
  },
  {
   "cell_type": "code",
   "execution_count": 16,
   "metadata": {},
   "outputs": [],
   "source": [
    "from math import radians, cos, sin, asin, sqrt\n",
    "\n",
    "def haversine(lon1, lat1, lon2, lat2):\n",
    "  # convert decimal degrees to radians \n",
    "  lon1, lat1, lon2, lat2 = map(radians, [lon1, lat1, lon2, lat2])\n",
    "\n",
    "  # haversine formula \n",
    "  dlon = lon2 - lon1 \n",
    "  dlat = lat2 - lat1 \n",
    "  a = sin(dlat/2)**2 + cos(lat1) * cos(lat2) * sin(dlon/2)**2\n",
    "  c = 2 * asin(sqrt(a)) \n",
    "  r = 6371 # Radius of earth in kilometers. Use 3956 for miles\n",
    "  return c * r"
   ]
  },
  {
   "cell_type": "code",
   "execution_count": 17,
   "metadata": {},
   "outputs": [],
   "source": [
    "hav_dist = trip_df.apply(lambda x : haversine(x['pickup_longitude'] , x['pickup_latitude'] , x['dropoff_longitude'] , x['dropoff_latitude']) ,axis = 1)"
   ]
  },
  {
   "cell_type": "code",
   "execution_count": 18,
   "metadata": {},
   "outputs": [],
   "source": [
    "trip_df['distance'] = round(hav_dist,2)"
   ]
  },
  {
   "cell_type": "code",
   "execution_count": 19,
   "metadata": {},
   "outputs": [],
   "source": [
    "# Also round the lat and long to save some computation.\n",
    "trip_df['pickup_longitude'] = round( trip_df['pickup_longitude'], 2)\n",
    "trip_df['pickup_latitude'] = round( trip_df['pickup_latitude'], 2)\n",
    "trip_df['dropoff_latitude'] = round( trip_df['dropoff_latitude'], 2)\n",
    "trip_df['dropoff_longitude'] = round( trip_df['dropoff_longitude'], 2)"
   ]
  },
  {
   "cell_type": "code",
   "execution_count": 20,
   "metadata": {},
   "outputs": [],
   "source": [
    "# drop vendor id column , as we already have already have a encode column for it\n",
    "trip_df.drop(['vendor_id'] , axis  = 1 , inplace = True)"
   ]
  },
  {
   "cell_type": "code",
   "execution_count": 21,
   "metadata": {},
   "outputs": [
    {
     "data": {
      "text/html": [
       "<div>\n",
       "<style scoped>\n",
       "    .dataframe tbody tr th:only-of-type {\n",
       "        vertical-align: middle;\n",
       "    }\n",
       "\n",
       "    .dataframe tbody tr th {\n",
       "        vertical-align: top;\n",
       "    }\n",
       "\n",
       "    .dataframe thead th {\n",
       "        text-align: right;\n",
       "    }\n",
       "</style>\n",
       "<table border=\"1\" class=\"dataframe\">\n",
       "  <thead>\n",
       "    <tr style=\"text-align: right;\">\n",
       "      <th></th>\n",
       "      <th>passenger_count</th>\n",
       "      <th>pickup_longitude</th>\n",
       "      <th>pickup_latitude</th>\n",
       "      <th>dropoff_longitude</th>\n",
       "      <th>dropoff_latitude</th>\n",
       "      <th>trip_duration</th>\n",
       "      <th>store_fwd_flag</th>\n",
       "      <th>pickup_month</th>\n",
       "      <th>pickup_hour</th>\n",
       "      <th>pickup_dayofweek</th>\n",
       "      <th>dropoff_month</th>\n",
       "      <th>dropoff_hour</th>\n",
       "      <th>dropoff_dayofweek</th>\n",
       "      <th>vendor_enc</th>\n",
       "      <th>distance</th>\n",
       "    </tr>\n",
       "  </thead>\n",
       "  <tbody>\n",
       "    <tr>\n",
       "      <th>0</th>\n",
       "      <td>1</td>\n",
       "      <td>-73.95</td>\n",
       "      <td>40.78</td>\n",
       "      <td>-73.96</td>\n",
       "      <td>40.77</td>\n",
       "      <td>400</td>\n",
       "      <td>0</td>\n",
       "      <td>2</td>\n",
       "      <td>16</td>\n",
       "      <td>0</td>\n",
       "      <td>2</td>\n",
       "      <td>16</td>\n",
       "      <td>0</td>\n",
       "      <td>1</td>\n",
       "      <td>1.20</td>\n",
       "    </tr>\n",
       "    <tr>\n",
       "      <th>1</th>\n",
       "      <td>2</td>\n",
       "      <td>-73.99</td>\n",
       "      <td>40.73</td>\n",
       "      <td>-73.99</td>\n",
       "      <td>40.69</td>\n",
       "      <td>1100</td>\n",
       "      <td>0</td>\n",
       "      <td>3</td>\n",
       "      <td>23</td>\n",
       "      <td>4</td>\n",
       "      <td>3</td>\n",
       "      <td>23</td>\n",
       "      <td>4</td>\n",
       "      <td>0</td>\n",
       "      <td>4.13</td>\n",
       "    </tr>\n",
       "    <tr>\n",
       "      <th>2</th>\n",
       "      <td>2</td>\n",
       "      <td>-74.00</td>\n",
       "      <td>40.72</td>\n",
       "      <td>-73.95</td>\n",
       "      <td>40.77</td>\n",
       "      <td>1635</td>\n",
       "      <td>0</td>\n",
       "      <td>2</td>\n",
       "      <td>17</td>\n",
       "      <td>6</td>\n",
       "      <td>2</td>\n",
       "      <td>18</td>\n",
       "      <td>6</td>\n",
       "      <td>1</td>\n",
       "      <td>7.25</td>\n",
       "    </tr>\n",
       "    <tr>\n",
       "      <th>3</th>\n",
       "      <td>6</td>\n",
       "      <td>-73.96</td>\n",
       "      <td>40.76</td>\n",
       "      <td>-73.96</td>\n",
       "      <td>40.78</td>\n",
       "      <td>1141</td>\n",
       "      <td>0</td>\n",
       "      <td>1</td>\n",
       "      <td>9</td>\n",
       "      <td>1</td>\n",
       "      <td>1</td>\n",
       "      <td>10</td>\n",
       "      <td>1</td>\n",
       "      <td>1</td>\n",
       "      <td>2.36</td>\n",
       "    </tr>\n",
       "    <tr>\n",
       "      <th>4</th>\n",
       "      <td>1</td>\n",
       "      <td>-74.02</td>\n",
       "      <td>40.71</td>\n",
       "      <td>-73.99</td>\n",
       "      <td>40.74</td>\n",
       "      <td>848</td>\n",
       "      <td>0</td>\n",
       "      <td>2</td>\n",
       "      <td>6</td>\n",
       "      <td>2</td>\n",
       "      <td>2</td>\n",
       "      <td>6</td>\n",
       "      <td>2</td>\n",
       "      <td>0</td>\n",
       "      <td>4.33</td>\n",
       "    </tr>\n",
       "  </tbody>\n",
       "</table>\n",
       "</div>"
      ],
      "text/plain": [
       "   passenger_count  pickup_longitude  pickup_latitude  dropoff_longitude  \\\n",
       "0                1            -73.95            40.78             -73.96   \n",
       "1                2            -73.99            40.73             -73.99   \n",
       "2                2            -74.00            40.72             -73.95   \n",
       "3                6            -73.96            40.76             -73.96   \n",
       "4                1            -74.02            40.71             -73.99   \n",
       "\n",
       "   dropoff_latitude  trip_duration  store_fwd_flag  pickup_month  pickup_hour  \\\n",
       "0             40.77            400               0             2           16   \n",
       "1             40.69           1100               0             3           23   \n",
       "2             40.77           1635               0             2           17   \n",
       "3             40.78           1141               0             1            9   \n",
       "4             40.74            848               0             2            6   \n",
       "\n",
       "   pickup_dayofweek  dropoff_month  dropoff_hour  dropoff_dayofweek  \\\n",
       "0                 0              2            16                  0   \n",
       "1                 4              3            23                  4   \n",
       "2                 6              2            18                  6   \n",
       "3                 1              1            10                  1   \n",
       "4                 2              2             6                  2   \n",
       "\n",
       "   vendor_enc  distance  \n",
       "0           1      1.20  \n",
       "1           0      4.13  \n",
       "2           1      7.25  \n",
       "3           1      2.36  \n",
       "4           0      4.33  "
      ]
     },
     "execution_count": 21,
     "metadata": {},
     "output_type": "execute_result"
    }
   ],
   "source": [
    "trip_df.head()"
   ]
  },
  {
   "cell_type": "code",
   "execution_count": 22,
   "metadata": {},
   "outputs": [],
   "source": [
    "# create a function to run a K-Fold ,cross validation score for a model\n",
    "def cross_val_score(model , df , feature_cols , target_col , split):\n",
    "    \n",
    "    print('feature cols ' , feature_cols)\n",
    "    print('target col ', target_col)\n",
    "    \n",
    "    df_copy = df.copy()\n",
    "    X = df_copy[feature_cols]\n",
    "    y = df_copy[target_col]\n",
    "    counter = 1\n",
    "    \n",
    "    cv_scores = pd.DataFrame(columns = ['Iteration' , 'Model' , 'RMSE Train' , 'RMSE Val'])\n",
    "    \n",
    "    kfold = KFold(n_splits = split , shuffle = True)    \n",
    "    \n",
    "    for train_index,test_index in kfold.split(X,y):\n",
    "        Xtr, Xvl = X.loc[train_index], X.loc[test_index]\n",
    "        ytr,yvl = y[train_index] , y[test_index]\n",
    "            \n",
    "        model.fit(Xtr,ytr)\n",
    "        train_pred =  model.predict(Xtr)\n",
    "        val_pred = model.predict(Xvl)\n",
    "        \n",
    "        rmse_score_train = sqrt(mean_squared_error(ytr,train_pred))\n",
    "        rmse_score_test = sqrt(mean_squared_error(yvl , val_pred))\n",
    "        \n",
    "        print('RMSE Train - ', rmse_score_train , 'RMSE Test - ', rmse_score_test)\n",
    "        cv_scores.append([ counter , type(model) , rmse_score_train , rmse_score_test])\n",
    "        \n",
    "        countet = counter + 1\n",
    "        \n",
    "    return cv_scores\n",
    "        \n",
    "    "
   ]
  },
  {
   "cell_type": "code",
   "execution_count": 23,
   "metadata": {},
   "outputs": [
    {
     "data": {
      "text/plain": [
       "Index(['passenger_count', 'pickup_longitude', 'pickup_latitude',\n",
       "       'dropoff_longitude', 'dropoff_latitude', 'trip_duration',\n",
       "       'store_fwd_flag', 'pickup_month', 'pickup_hour', 'pickup_dayofweek',\n",
       "       'dropoff_month', 'dropoff_hour', 'dropoff_dayofweek', 'vendor_enc',\n",
       "       'distance'],\n",
       "      dtype='object')"
      ]
     },
     "execution_count": 23,
     "metadata": {},
     "output_type": "execute_result"
    }
   ],
   "source": [
    "trip_df.columns"
   ]
  },
  {
   "cell_type": "code",
   "execution_count": 24,
   "metadata": {},
   "outputs": [],
   "source": [
    "feature_cols = ['passenger_count', 'pickup_longitude', 'pickup_latitude',\n",
    "       'dropoff_longitude', 'dropoff_latitude', 'store_fwd_flag', 'pickup_month', 'pickup_hour', 'pickup_dayofweek',\n",
    "       'dropoff_month', 'dropoff_hour', 'dropoff_dayofweek', 'vendor_enc',\n",
    "       'distance']"
   ]
  },
  {
   "cell_type": "code",
   "execution_count": 25,
   "metadata": {},
   "outputs": [
    {
     "name": "stdout",
     "output_type": "stream",
     "text": [
      "feature cols  ['passenger_count', 'pickup_longitude', 'pickup_latitude', 'dropoff_longitude', 'dropoff_latitude', 'store_fwd_flag', 'pickup_month', 'pickup_hour', 'pickup_dayofweek', 'dropoff_month', 'dropoff_hour', 'dropoff_dayofweek', 'vendor_enc', 'distance']\n",
      "target col  trip_duration\n",
      "RMSE Train -  2808.725178657334 RMSE Test -  5817.883961220127\n",
      "RMSE Train -  3078.509890110373 RMSE Test -  2965.031558880103\n",
      "RMSE Train -  2954.0767583618017 RMSE Test -  2866.197359567291\n",
      "RMSE Train -  2902.4516847024875 RMSE Test -  2773.149583996897\n",
      "RMSE Train -  3030.8705771015093 RMSE Test -  2937.3765384196718\n"
     ]
    }
   ],
   "source": [
    "# Ensemble methods - 1 RandomForest\n",
    "from sklearn.ensemble import RandomForestRegressor\n",
    "\n",
    "# setting the parameters \n",
    "rf_params = {'random_state': 0 , 'n_estimators': 20 , 'max_depth': 10 , 'n_jobs': -1 , 'min_samples_split': 45}\n",
    "\n",
    "rf = RandomForestRegressor(**rf_params)\n",
    "rf_scores  = cross_val_score(rf , trip_df , feature_cols , 'trip_duration', 5)"
   ]
  },
  {
   "cell_type": "code",
   "execution_count": 26,
   "metadata": {},
   "outputs": [
    {
     "name": "stderr",
     "output_type": "stream",
     "text": [
      "C:\\Users\\avani\\AnacondaLatest\\lib\\site-packages\\xgboost\\core.py:587: FutureWarning: Series.base is deprecated and will be removed in a future version\n",
      "  if getattr(data, 'base', None) is not None and \\\n"
     ]
    }
   ],
   "source": [
    "# Ensemble method - 2 XGBoost\n",
    "\n",
    "#splitting dataset into train and test\n",
    "x_train,x_test,y_train, y_test = train_test_split(trip_df[feature_cols] , trip_df['trip_duration'],test_size = 0.20 ,\n",
    "                                                random_state = 42)\n",
    "\n",
    "dtrain = xgb.DMatrix(x_train, label = y_train)\n",
    "dvalid = xgb.DMatrix(x_test, label = y_test)\n",
    "\n",
    "watchlist =  [(dtrain , 'train') , (dvalid, 'valid')]"
   ]
  },
  {
   "cell_type": "code",
   "execution_count": 27,
   "metadata": {},
   "outputs": [],
   "source": [
    "xgb_params = {}\n",
    "xgb_params[\"objective\"] = \"reg:squarederror\"\n",
    "xgb_params['eval_metric'] = 'rmse'"
   ]
  },
  {
   "cell_type": "code",
   "execution_count": 28,
   "metadata": {},
   "outputs": [
    {
     "name": "stdout",
     "output_type": "stream",
     "text": [
      "[0]\ttrain-rmse:3186.52\tvalid-rmse:5931.05\n",
      "Multiple eval metrics have been passed: 'valid-rmse' will be used for early stopping.\n",
      "\n",
      "Will train until valid-rmse hasn't improved in 50 rounds.\n",
      "[20]\ttrain-rmse:1172.32\tvalid-rmse:5074.03\n",
      "[40]\ttrain-rmse:600.613\tvalid-rmse:4910.13\n",
      "[60]\ttrain-rmse:489.333\tvalid-rmse:4896.92\n",
      "[80]\ttrain-rmse:445.105\tvalid-rmse:4876.89\n",
      "[100]\ttrain-rmse:403.997\tvalid-rmse:4872.07\n",
      "[120]\ttrain-rmse:381.246\tvalid-rmse:4870.85\n",
      "[140]\ttrain-rmse:361.443\tvalid-rmse:4869.73\n",
      "[160]\ttrain-rmse:351.618\tvalid-rmse:4866.85\n",
      "[180]\ttrain-rmse:342.623\tvalid-rmse:4863.87\n",
      "[200]\ttrain-rmse:328.004\tvalid-rmse:4862.76\n",
      "[220]\ttrain-rmse:323.419\tvalid-rmse:4862.42\n",
      "[240]\ttrain-rmse:315.152\tvalid-rmse:4862.14\n",
      "[260]\ttrain-rmse:310.67\tvalid-rmse:4860.67\n",
      "[280]\ttrain-rmse:306.18\tvalid-rmse:4860.43\n",
      "[300]\ttrain-rmse:302.564\tvalid-rmse:4857.27\n",
      "[320]\ttrain-rmse:298.482\tvalid-rmse:4857.59\n",
      "[340]\ttrain-rmse:293.669\tvalid-rmse:4857.22\n",
      "[360]\ttrain-rmse:290.127\tvalid-rmse:4857.21\n",
      "[380]\ttrain-rmse:288.474\tvalid-rmse:4857.08\n",
      "[400]\ttrain-rmse:286.168\tvalid-rmse:4857.58\n",
      "[420]\ttrain-rmse:284.406\tvalid-rmse:4857.73\n",
      "Stopping. Best iteration:\n",
      "[384]\ttrain-rmse:288.2\tvalid-rmse:4857.07\n",
      "\n"
     ]
    }
   ],
   "source": [
    "xgb_model = xgb.train(xgb_params, dtrain,10000, watchlist,early_stopping_rounds = 50, maximize = False ,verbose_eval = 20)"
   ]
  },
  {
   "cell_type": "code",
   "execution_count": 29,
   "metadata": {},
   "outputs": [
    {
     "data": {
      "text/plain": [
       "<matplotlib.axes._subplots.AxesSubplot at 0x210137f0cf8>"
      ]
     },
     "execution_count": 29,
     "metadata": {},
     "output_type": "execute_result"
    },
    {
     "data": {
      "image/png": "[encoded data removed]",
      "text/plain": [
       "<Figure size 432x288 with 1 Axes>"
      ]
     },
     "metadata": {
      "needs_background": "light"
     },
     "output_type": "display_data"
    }
   ],
   "source": [
    "xgb.plot_importance(xgb_model , max_num_features = 20 , height = 0.5)"
   ]
  },
  {
   "cell_type": "code",
   "execution_count": null,
   "metadata": {},
   "outputs": [
    {
     "name": "stdout",
     "output_type": "stream",
     "text": [
      "feature cols  ['passenger_count', 'pickup_longitude', 'pickup_latitude', 'dropoff_longitude', 'dropoff_latitude', 'store_fwd_flag', 'pickup_month', 'pickup_hour', 'pickup_dayofweek', 'dropoff_month', 'dropoff_hour', 'dropoff_dayofweek', 'vendor_enc', 'distance']\n",
      "target col  trip_duration\n",
      "[20:19:58] WARNING: C:/Jenkins/workspace/xgboost-win64_release_0.90/src/objective/regression_obj.cu:152: reg:linear is now deprecated in favor of reg:squarederror.\n",
      "RMSE Train -  2526.461053677389 RMSE Test -  2445.9394727304234\n"
     ]
    },
    {
     "name": "stderr",
     "output_type": "stream",
     "text": [
      "C:\\Users\\avani\\AnacondaLatest\\lib\\site-packages\\xgboost\\core.py:587: FutureWarning: Series.base is deprecated and will be removed in a future version\n",
      "  if getattr(data, 'base', None) is not None and \\\n"
     ]
    },
    {
     "name": "stdout",
     "output_type": "stream",
     "text": [
      "[20:21:33] WARNING: C:/Jenkins/workspace/xgboost-win64_release_0.90/src/objective/regression_obj.cu:152: reg:linear is now deprecated in favor of reg:squarederror.\n",
      "RMSE Train -  2588.5294258529834 RMSE Test -  2296.428092682012\n"
     ]
    },
    {
     "name": "stderr",
     "output_type": "stream",
     "text": [
      "C:\\Users\\avani\\AnacondaLatest\\lib\\site-packages\\xgboost\\core.py:587: FutureWarning: Series.base is deprecated and will be removed in a future version\n",
      "  if getattr(data, 'base', None) is not None and \\\n"
     ]
    },
    {
     "name": "stdout",
     "output_type": "stream",
     "text": [
      "[20:22:57] WARNING: C:/Jenkins/workspace/xgboost-win64_release_0.90/src/objective/regression_obj.cu:152: reg:linear is now deprecated in favor of reg:squarederror.\n",
      "RMSE Train -  2274.1417947186565 RMSE Test -  5404.281649595027\n"
     ]
    },
    {
     "name": "stderr",
     "output_type": "stream",
     "text": [
      "C:\\Users\\avani\\AnacondaLatest\\lib\\site-packages\\xgboost\\core.py:587: FutureWarning: Series.base is deprecated and will be removed in a future version\n",
      "  if getattr(data, 'base', None) is not None and \\\n"
     ]
    },
    {
     "name": "stdout",
     "output_type": "stream",
     "text": [
      "[20:24:58] WARNING: C:/Jenkins/workspace/xgboost-win64_release_0.90/src/objective/regression_obj.cu:152: reg:linear is now deprecated in favor of reg:squarederror.\n"
     ]
    }
   ],
   "source": [
    "xgb_params['num_round'] = xgb_model.best_iteration\n",
    "xgb_model_final = xgb.XGBRegressor()\n",
    "xgb_scores = cross_val_score(xgb_model_final, trip_df , feature_cols , 'trip_duration', 5)"
   ]
  },
  {
   "cell_type": "code",
   "execution_count": null,
   "metadata": {},
   "outputs": [],
   "source": [
    "# Ensembling the two models - Randomforest  and XGBoost\n",
    "# Averaging\n",
    "def cv_scores_avg(model_1 , model_2 ,df , feature_cols , target_col, w1 = 0.5 , w2= 0.5):\n",
    "    cnt = 1\n",
    "    cv_score = []\n",
    "    \n",
    "    print('feature cols ' , feature_cols)\n",
    "    print('target col ', target_col)\n",
    "    \n",
    "    kf = KFold(n_splits = 5 , shuffle = True)\n",
    "    X = df[feature_cols]\n",
    "    y = df[target_col]\n",
    "    \n",
    "    for train_index , test_index  in kf.split( X, y):\n",
    "        xtr, xval = X.iloc[train_index] , X.iloc[test_index]\n",
    "        ytr,yval = y.iloc[train_index] , y.iloc[test_index]             \n",
    "        \n",
    "        model_1.fit(xtr,ytr)\n",
    "        pred_val1 = model_1.predict(xval)\n",
    "        \n",
    "        model_2.fit(xtr,ytr)\n",
    "        pred_val2 = model_2.predict(xval)\n",
    "        \n",
    "        final_pred = pred_val1 * w1 + pred_val2 * w2\n",
    "        \n",
    "        rmse_score = sqrt(mean_squared_error(yval,final_pred))\n",
    "        \n",
    "        print(rmse_score)\n",
    "        \n",
    "        cv_score.append(rmse_score)\n",
    "        \n",
    "    return cv_score"
   ]
  },
  {
   "cell_type": "code",
   "execution_count": null,
   "metadata": {},
   "outputs": [],
   "source": [
    "cv_scores = cv_scores_avg(xgb_model_final , RandomForestRegressor(**rf_params), trip_df ,  feature_cols , 'trip_duration')"
   ]
  },
  {
   "cell_type": "code",
   "execution_count": null,
   "metadata": {},
   "outputs": [],
   "source": [
    "# Ensemble using stacking\n",
    "# model definitions for feeding into stacking\n",
    "xgb_model = xgb.XGBRegressor(**xgb_params)\n",
    "rf_model = RandomForestRegressor(**rf_params)\n",
    "\n",
    "# import stacking regressor\n",
    "from mlxtend.regressor import StackingCVRegressor\n",
    "from sklearn.linear_model import Ridge\n",
    "\n",
    "stacked_model = StackingCVRegressor(\n",
    "    regressors = [xgb_model , rf_model],\n",
    "    meta_regressor = Ridge()\n",
    ")\n"
   ]
  },
  {
   "cell_type": "code",
   "execution_count": null,
   "metadata": {},
   "outputs": [],
   "source": [
    "stacking_cv_scores = cross_val_score(stacked_model,trip_df , feature_cols , 'trip_duration' , 5)"
   ]
  },
  {
   "cell_type": "code",
   "execution_count": null,
   "metadata": {},
   "outputs": [],
   "source": []
  }
 ],
 "metadata": {
  "kernelspec": {
   "display_name": "Python 3",
   "language": "python",
   "name": "python3"
  },
  "language_info": {
   "codemirror_mode": {
    "name": "ipython",
    "version": 3
   },
   "file_extension": ".py",
   "mimetype": "text/x-python",
   "name": "python",
   "nbconvert_exporter": "python",
   "pygments_lexer": "ipython3",
   "version": "3.7.3"
  }
 },
 "nbformat": 4,
 "nbformat_minor": 2
}
